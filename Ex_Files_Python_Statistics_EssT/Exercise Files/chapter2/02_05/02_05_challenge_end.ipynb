{
 "cells": [
  {
   "cell_type": "markdown",
   "metadata": {},
   "source": [
    "## Python statistics essential training - 02_05_challenge"
   ]
  },
  {
   "cell_type": "markdown",
   "metadata": {},
   "source": [
    "Standard imports"
   ]
  },
  {
   "cell_type": "code",
   "execution_count": 1,
   "metadata": {
    "pycharm": {
     "is_executing": false
    }
   },
   "outputs": [],
   "source": [
    "import numpy as np\n",
    "import pandas as pd\n",
    "\n",
    "import matplotlib\n",
    "import matplotlib.pyplot as pp\n",
    "\n",
    "%matplotlib inline"
   ]
  },
  {
   "cell_type": "code",
   "execution_count": 8,
   "metadata": {
    "pycharm": {
     "is_executing": false
    }
   },
   "outputs": [
    {
     "data": {
      "text/plain": "  country  year  m04  m514  m014  m1524  m2534  m3544  m4554  m5564  ...  f04  \\\n0      AD  1989  NaN   NaN   NaN    NaN    NaN    NaN    NaN    NaN  ...  NaN   \n1      AD  1990  NaN   NaN   NaN    NaN    NaN    NaN    NaN    NaN  ...  NaN   \n2      AD  1991  NaN   NaN   NaN    NaN    NaN    NaN    NaN    NaN  ...  NaN   \n3      AD  1992  NaN   NaN   NaN    NaN    NaN    NaN    NaN    NaN  ...  NaN   \n4      AD  1993  NaN   NaN   NaN    NaN    NaN    NaN    NaN    NaN  ...  NaN   \n\n   f514  f014  f1524  f2534  f3544  f4554  f5564  f65  fu  \n0   NaN   NaN    NaN    NaN    NaN    NaN    NaN  NaN NaN  \n1   NaN   NaN    NaN    NaN    NaN    NaN    NaN  NaN NaN  \n2   NaN   NaN    NaN    NaN    NaN    NaN    NaN  NaN NaN  \n3   NaN   NaN    NaN    NaN    NaN    NaN    NaN  NaN NaN  \n4   NaN   NaN    NaN    NaN    NaN    NaN    NaN  NaN NaN  \n\n[5 rows x 22 columns]",
      "text/html": "<div>\n<style scoped>\n    .dataframe tbody tr th:only-of-type {\n        vertical-align: middle;\n    }\n\n    .dataframe tbody tr th {\n        vertical-align: top;\n    }\n\n    .dataframe thead th {\n        text-align: right;\n    }\n</style>\n<table border=\"1\" class=\"dataframe\">\n  <thead>\n    <tr style=\"text-align: right;\">\n      <th></th>\n      <th>country</th>\n      <th>year</th>\n      <th>m04</th>\n      <th>m514</th>\n      <th>m014</th>\n      <th>m1524</th>\n      <th>m2534</th>\n      <th>m3544</th>\n      <th>m4554</th>\n      <th>m5564</th>\n      <th>...</th>\n      <th>f04</th>\n      <th>f514</th>\n      <th>f014</th>\n      <th>f1524</th>\n      <th>f2534</th>\n      <th>f3544</th>\n      <th>f4554</th>\n      <th>f5564</th>\n      <th>f65</th>\n      <th>fu</th>\n    </tr>\n  </thead>\n  <tbody>\n    <tr>\n      <th>0</th>\n      <td>AD</td>\n      <td>1989</td>\n      <td>NaN</td>\n      <td>NaN</td>\n      <td>NaN</td>\n      <td>NaN</td>\n      <td>NaN</td>\n      <td>NaN</td>\n      <td>NaN</td>\n      <td>NaN</td>\n      <td>...</td>\n      <td>NaN</td>\n      <td>NaN</td>\n      <td>NaN</td>\n      <td>NaN</td>\n      <td>NaN</td>\n      <td>NaN</td>\n      <td>NaN</td>\n      <td>NaN</td>\n      <td>NaN</td>\n      <td>NaN</td>\n    </tr>\n    <tr>\n      <th>1</th>\n      <td>AD</td>\n      <td>1990</td>\n      <td>NaN</td>\n      <td>NaN</td>\n      <td>NaN</td>\n      <td>NaN</td>\n      <td>NaN</td>\n      <td>NaN</td>\n      <td>NaN</td>\n      <td>NaN</td>\n      <td>...</td>\n      <td>NaN</td>\n      <td>NaN</td>\n      <td>NaN</td>\n      <td>NaN</td>\n      <td>NaN</td>\n      <td>NaN</td>\n      <td>NaN</td>\n      <td>NaN</td>\n      <td>NaN</td>\n      <td>NaN</td>\n    </tr>\n    <tr>\n      <th>2</th>\n      <td>AD</td>\n      <td>1991</td>\n      <td>NaN</td>\n      <td>NaN</td>\n      <td>NaN</td>\n      <td>NaN</td>\n      <td>NaN</td>\n      <td>NaN</td>\n      <td>NaN</td>\n      <td>NaN</td>\n      <td>...</td>\n      <td>NaN</td>\n      <td>NaN</td>\n      <td>NaN</td>\n      <td>NaN</td>\n      <td>NaN</td>\n      <td>NaN</td>\n      <td>NaN</td>\n      <td>NaN</td>\n      <td>NaN</td>\n      <td>NaN</td>\n    </tr>\n    <tr>\n      <th>3</th>\n      <td>AD</td>\n      <td>1992</td>\n      <td>NaN</td>\n      <td>NaN</td>\n      <td>NaN</td>\n      <td>NaN</td>\n      <td>NaN</td>\n      <td>NaN</td>\n      <td>NaN</td>\n      <td>NaN</td>\n      <td>...</td>\n      <td>NaN</td>\n      <td>NaN</td>\n      <td>NaN</td>\n      <td>NaN</td>\n      <td>NaN</td>\n      <td>NaN</td>\n      <td>NaN</td>\n      <td>NaN</td>\n      <td>NaN</td>\n      <td>NaN</td>\n    </tr>\n    <tr>\n      <th>4</th>\n      <td>AD</td>\n      <td>1993</td>\n      <td>NaN</td>\n      <td>NaN</td>\n      <td>NaN</td>\n      <td>NaN</td>\n      <td>NaN</td>\n      <td>NaN</td>\n      <td>NaN</td>\n      <td>NaN</td>\n      <td>...</td>\n      <td>NaN</td>\n      <td>NaN</td>\n      <td>NaN</td>\n      <td>NaN</td>\n      <td>NaN</td>\n      <td>NaN</td>\n      <td>NaN</td>\n      <td>NaN</td>\n      <td>NaN</td>\n      <td>NaN</td>\n    </tr>\n  </tbody>\n</table>\n<p>5 rows × 22 columns</p>\n</div>"
     },
     "metadata": {},
     "output_type": "execute_result",
     "execution_count": 8
    }
   ],
   "source": [
    "df = pd.read_csv('tb.csv')\n",
    "df.head()"
   ]
  },
  {
   "cell_type": "code",
   "execution_count": 60,
   "metadata": {
    "pycharm": {
     "is_executing": false
    }
   },
   "outputs": [],
   "source": [
    "test = pd.read_csv('final.csv')"
   ]
  },
  {
   "cell_type": "code",
   "execution_count": 71,
   "metadata": {
    "pycharm": {
     "is_executing": false
    }
   },
   "outputs": [
    {
     "data": {
      "text/plain": "   country  year  age sex  cases\n15      AD  2005  0-4   m    0.0\n16      AD  2006  0-4   m    0.0\n18      AD  2008  0-4   m    0.0\n42      AE  2006  0-4   m    0.0\n43      AE  2007  0-4   m    0.0",
      "text/html": "<div>\n<style scoped>\n    .dataframe tbody tr th:only-of-type {\n        vertical-align: middle;\n    }\n\n    .dataframe tbody tr th {\n        vertical-align: top;\n    }\n\n    .dataframe thead th {\n        text-align: right;\n    }\n</style>\n<table border=\"1\" class=\"dataframe\">\n  <thead>\n    <tr style=\"text-align: right;\">\n      <th></th>\n      <th>country</th>\n      <th>year</th>\n      <th>age</th>\n      <th>sex</th>\n      <th>cases</th>\n    </tr>\n  </thead>\n  <tbody>\n    <tr>\n      <th>15</th>\n      <td>AD</td>\n      <td>2005</td>\n      <td>0-4</td>\n      <td>m</td>\n      <td>0.0</td>\n    </tr>\n    <tr>\n      <th>16</th>\n      <td>AD</td>\n      <td>2006</td>\n      <td>0-4</td>\n      <td>m</td>\n      <td>0.0</td>\n    </tr>\n    <tr>\n      <th>18</th>\n      <td>AD</td>\n      <td>2008</td>\n      <td>0-4</td>\n      <td>m</td>\n      <td>0.0</td>\n    </tr>\n    <tr>\n      <th>42</th>\n      <td>AE</td>\n      <td>2006</td>\n      <td>0-4</td>\n      <td>m</td>\n      <td>0.0</td>\n    </tr>\n    <tr>\n      <th>43</th>\n      <td>AE</td>\n      <td>2007</td>\n      <td>0-4</td>\n      <td>m</td>\n      <td>0.0</td>\n    </tr>\n  </tbody>\n</table>\n</div>"
     },
     "metadata": {},
     "output_type": "execute_result",
     "execution_count": 71
    }
   ],
   "source": [
    "# Melt the sex and \n",
    "df2 = df.melt(id_vars=['country', 'year'], var_name='sex_age', value_name='cases')\n",
    "\n",
    "# separate sex and age column\n",
    "df2['sex'] = df2.sex_age.str.slice(0,1)\n",
    "df2['age'] = df2.sex_age.str.slice(1)\n",
    "\n",
    "# age group rename\n",
    "age_droup_dict = {'04':'0-4',\n",
    "                  '514':'5-14',\n",
    "                  '014':'0-14',\n",
    "                  '1524':'15-24',\n",
    "                  '2534':'25-34',\n",
    "                  '3544':'35-44',\n",
    "                  '4554':'4554',\n",
    "                  '5564':'55-64',\n",
    "                  '65':'65+',\n",
    "                  'u':np.nan}\n",
    "\n",
    "df2.age = df2.age.map(age_droup_dict)\n",
    "df2 = df2.dropna(subset=['cases'])\n",
    "\n",
    "# sort and order columns\n",
    "df2.sort_values(by=['country','year','age','sex'])\n",
    "df2 = df2[['country','year','age','sex','cases']]\n",
    "df2.head()"
   ]
  },
  {
   "cell_type": "code",
   "execution_count": 70,
   "outputs": [
    {
     "data": {
      "text/plain": "  country  year    age sex  cases\n0      AD  1996  15-24   f    1.0\n1      AD  1996  15-24   m    0.0\n2      AD  1996  25-34   f    1.0\n3      AD  1996  25-34   m    0.0\n4      AD  1996  35-44   f    0.0",
      "text/html": "<div>\n<style scoped>\n    .dataframe tbody tr th:only-of-type {\n        vertical-align: middle;\n    }\n\n    .dataframe tbody tr th {\n        vertical-align: top;\n    }\n\n    .dataframe thead th {\n        text-align: right;\n    }\n</style>\n<table border=\"1\" class=\"dataframe\">\n  <thead>\n    <tr style=\"text-align: right;\">\n      <th></th>\n      <th>country</th>\n      <th>year</th>\n      <th>age</th>\n      <th>sex</th>\n      <th>cases</th>\n    </tr>\n  </thead>\n  <tbody>\n    <tr>\n      <th>0</th>\n      <td>AD</td>\n      <td>1996</td>\n      <td>15-24</td>\n      <td>f</td>\n      <td>1.0</td>\n    </tr>\n    <tr>\n      <th>1</th>\n      <td>AD</td>\n      <td>1996</td>\n      <td>15-24</td>\n      <td>m</td>\n      <td>0.0</td>\n    </tr>\n    <tr>\n      <th>2</th>\n      <td>AD</td>\n      <td>1996</td>\n      <td>25-34</td>\n      <td>f</td>\n      <td>1.0</td>\n    </tr>\n    <tr>\n      <th>3</th>\n      <td>AD</td>\n      <td>1996</td>\n      <td>25-34</td>\n      <td>m</td>\n      <td>0.0</td>\n    </tr>\n    <tr>\n      <th>4</th>\n      <td>AD</td>\n      <td>1996</td>\n      <td>35-44</td>\n      <td>f</td>\n      <td>0.0</td>\n    </tr>\n  </tbody>\n</table>\n</div>"
     },
     "metadata": {},
     "output_type": "execute_result",
     "execution_count": 70
    }
   ],
   "source": [
    "test.head()\n"
   ],
   "metadata": {
    "collapsed": false,
    "pycharm": {
     "name": "#%%\n",
     "is_executing": false
    }
   }
  }
 ],
 "metadata": {
  "kernelspec": {
   "display_name": "Python 3",
   "language": "python",
   "name": "python3"
  },
  "language_info": {
   "codemirror_mode": {
    "name": "ipython",
    "version": 3
   },
   "file_extension": ".py",
   "mimetype": "text/x-python",
   "name": "python",
   "nbconvert_exporter": "python",
   "pygments_lexer": "ipython3",
   "version": "3.6.4"
  },
  "toc": {
   "base_numbering": 1,
   "nav_menu": {},
   "number_sections": true,
   "sideBar": true,
   "skip_h1_title": false,
   "title_cell": "Table of Contents",
   "title_sidebar": "Contents",
   "toc_cell": false,
   "toc_position": {},
   "toc_section_display": true,
   "toc_window_display": false
  },
  "pycharm": {
   "stem_cell": {
    "cell_type": "raw",
    "source": [],
    "metadata": {
     "collapsed": false
    }
   }
  }
 },
 "nbformat": 4,
 "nbformat_minor": 2
}
