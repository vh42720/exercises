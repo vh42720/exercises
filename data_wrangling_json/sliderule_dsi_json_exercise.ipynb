{
 "cells": [
  {
   "cell_type": "markdown",
   "metadata": {},
   "source": [
    "# JSON examples and exercise\n",
    "****\n",
    "+ get familiar with packages for dealing with JSON\n",
    "+ study examples with JSON strings and files \n",
    "+ work on exercise to be completed and submitted \n",
    "****\n",
    "+ reference: http://pandas.pydata.org/pandas-docs/stable/io.html#io-json-reader\n",
    "****"
   ]
  },
  {
   "cell_type": "code",
   "execution_count": 64,
   "metadata": {
    "collapsed": true,
    "pycharm": {
     "is_executing": false
    }
   },
   "outputs": [],
   "source": [
    "import pandas as pd"
   ]
  },
  {
   "cell_type": "markdown",
   "metadata": {},
   "source": [
    "## imports for Python, Pandas"
   ]
  },
  {
   "cell_type": "code",
   "execution_count": 65,
   "metadata": {
    "collapsed": true,
    "pycharm": {
     "is_executing": false
    }
   },
   "outputs": [],
   "source": [
    "import json\n",
    "from pandas.io.json import json_normalize"
   ]
  },
  {
   "cell_type": "markdown",
   "metadata": {},
   "source": [
    "## JSON example, with string\n",
    "\n",
    "+ demonstrates creation of normalized dataframes (tables) from nested json string\n",
    "+ source: http://pandas.pydata.org/pandas-docs/stable/io.html#normalization"
   ]
  },
  {
   "cell_type": "code",
   "execution_count": 66,
   "metadata": {
    "collapsed": true,
    "pycharm": {
     "is_executing": false
    }
   },
   "outputs": [],
   "source": [
    "# define json string\n",
    "data = [{'state': 'Florida', \n",
    "         'shortname': 'FL',\n",
    "         'info': {'governor': 'Rick Scott'},\n",
    "         'counties': [{'name': 'Dade', 'population': 12345},\n",
    "                      {'name': 'Broward', 'population': 40000},\n",
    "                      {'name': 'Palm Beach', 'population': 60000}]},\n",
    "        {'state': 'Ohio',\n",
    "         'shortname': 'OH',\n",
    "         'info': {'governor': 'John Kasich'},\n",
    "         'counties': [{'name': 'Summit', 'population': 1234},\n",
    "                      {'name': 'Cuyahoga', 'population': 1337}]}]"
   ]
  },
  {
   "cell_type": "code",
   "execution_count": 67,
   "metadata": {
    "pycharm": {
     "is_executing": false
    }
   },
   "outputs": [
    {
     "name": "stderr",
     "text": [
      "d:\\pycharmprojects\\springboard\\venv\\lib\\site-packages\\ipykernel_launcher.py:2: FutureWarning: pandas.io.json.json_normalize is deprecated, use pandas.json_normalize instead\n",
      "  \n"
     ],
     "output_type": "stream"
    },
    {
     "data": {
      "text/plain": "         name  population\n0        Dade       12345\n1     Broward       40000\n2  Palm Beach       60000\n3      Summit        1234\n4    Cuyahoga        1337",
      "text/html": "<div>\n<style scoped>\n    .dataframe tbody tr th:only-of-type {\n        vertical-align: middle;\n    }\n\n    .dataframe tbody tr th {\n        vertical-align: top;\n    }\n\n    .dataframe thead th {\n        text-align: right;\n    }\n</style>\n<table border=\"1\" class=\"dataframe\">\n  <thead>\n    <tr style=\"text-align: right;\">\n      <th></th>\n      <th>name</th>\n      <th>population</th>\n    </tr>\n  </thead>\n  <tbody>\n    <tr>\n      <th>0</th>\n      <td>Dade</td>\n      <td>12345</td>\n    </tr>\n    <tr>\n      <th>1</th>\n      <td>Broward</td>\n      <td>40000</td>\n    </tr>\n    <tr>\n      <th>2</th>\n      <td>Palm Beach</td>\n      <td>60000</td>\n    </tr>\n    <tr>\n      <th>3</th>\n      <td>Summit</td>\n      <td>1234</td>\n    </tr>\n    <tr>\n      <th>4</th>\n      <td>Cuyahoga</td>\n      <td>1337</td>\n    </tr>\n  </tbody>\n</table>\n</div>"
     },
     "metadata": {},
     "output_type": "execute_result",
     "execution_count": 67
    }
   ],
   "source": [
    "# use normalization to create tables from nested element\n",
    "json_normalize(data, 'counties')"
   ]
  },
  {
   "cell_type": "code",
   "execution_count": 68,
   "metadata": {
    "pycharm": {
     "is_executing": false
    }
   },
   "outputs": [
    {
     "name": "stderr",
     "text": [
      "d:\\pycharmprojects\\springboard\\venv\\lib\\site-packages\\ipykernel_launcher.py:2: FutureWarning: pandas.io.json.json_normalize is deprecated, use pandas.json_normalize instead\n",
      "  \n"
     ],
     "output_type": "stream"
    },
    {
     "data": {
      "text/plain": "         name  population    state shortname info.governor\n0        Dade       12345  Florida        FL    Rick Scott\n1     Broward       40000  Florida        FL    Rick Scott\n2  Palm Beach       60000  Florida        FL    Rick Scott\n3      Summit        1234     Ohio        OH   John Kasich\n4    Cuyahoga        1337     Ohio        OH   John Kasich",
      "text/html": "<div>\n<style scoped>\n    .dataframe tbody tr th:only-of-type {\n        vertical-align: middle;\n    }\n\n    .dataframe tbody tr th {\n        vertical-align: top;\n    }\n\n    .dataframe thead th {\n        text-align: right;\n    }\n</style>\n<table border=\"1\" class=\"dataframe\">\n  <thead>\n    <tr style=\"text-align: right;\">\n      <th></th>\n      <th>name</th>\n      <th>population</th>\n      <th>state</th>\n      <th>shortname</th>\n      <th>info.governor</th>\n    </tr>\n  </thead>\n  <tbody>\n    <tr>\n      <th>0</th>\n      <td>Dade</td>\n      <td>12345</td>\n      <td>Florida</td>\n      <td>FL</td>\n      <td>Rick Scott</td>\n    </tr>\n    <tr>\n      <th>1</th>\n      <td>Broward</td>\n      <td>40000</td>\n      <td>Florida</td>\n      <td>FL</td>\n      <td>Rick Scott</td>\n    </tr>\n    <tr>\n      <th>2</th>\n      <td>Palm Beach</td>\n      <td>60000</td>\n      <td>Florida</td>\n      <td>FL</td>\n      <td>Rick Scott</td>\n    </tr>\n    <tr>\n      <th>3</th>\n      <td>Summit</td>\n      <td>1234</td>\n      <td>Ohio</td>\n      <td>OH</td>\n      <td>John Kasich</td>\n    </tr>\n    <tr>\n      <th>4</th>\n      <td>Cuyahoga</td>\n      <td>1337</td>\n      <td>Ohio</td>\n      <td>OH</td>\n      <td>John Kasich</td>\n    </tr>\n  </tbody>\n</table>\n</div>"
     },
     "metadata": {},
     "output_type": "execute_result",
     "execution_count": 68
    }
   ],
   "source": [
    "# further populate tables created from nested element\n",
    "json_normalize(data, 'counties', ['state', 'shortname', ['info', 'governor']])"
   ]
  },
  {
   "cell_type": "markdown",
   "metadata": {},
   "source": [
    "****\n",
    "## JSON example, with file\n",
    "\n",
    "+ demonstrates reading in a json file as a string and as a table\n",
    "+ uses small sample file containing data about projects funded by the World Bank "
   ]
  },
  {
   "cell_type": "code",
   "execution_count": 69,
   "metadata": {
    "pycharm": {
     "is_executing": false
    }
   },
   "outputs": [
    {
     "data": {
      "text/plain": "[{'_id': {'$oid': '52b213b38594d8a2be17c780'},\n  'approvalfy': 1999,\n  'board_approval_month': 'November',\n  'boardapprovaldate': '2013-11-12T00:00:00Z',\n  'borrower': 'FEDERAL DEMOCRATIC REPUBLIC OF ETHIOPIA',\n  'closingdate': '2018-07-07T00:00:00Z',\n  'country_namecode': 'Federal Democratic Republic of Ethiopia!$!ET',\n  'countrycode': 'ET',\n  'countryname': 'Federal Democratic Republic of Ethiopia',\n  'countryshortname': 'Ethiopia',\n  'docty': 'Project Information Document,Indigenous Peoples Plan,Project Information Document',\n  'envassesmentcategorycode': 'C',\n  'grantamt': 0,\n  'ibrdcommamt': 0,\n  'id': 'P129828',\n  'idacommamt': 130000000,\n  'impagency': 'MINISTRY OF EDUCATION',\n  'lendinginstr': 'Investment Project Financing',\n  'lendinginstrtype': 'IN',\n  'lendprojectcost': 550000000,\n  'majorsector_percent': [{'Name': 'Education', 'Percent': 46},\n   {'Name': 'Education', 'Percent': 26},\n   {'Name': 'Public Administration, Law, and Justice', 'Percent': 16},\n   {'Name': 'Education', 'Percent': 12}],\n  'mjsector_namecode': [{'name': 'Education', 'code': 'EX'},\n   {'name': 'Education', 'code': 'EX'},\n   {'name': 'Public Administration, Law, and Justice', 'code': 'BX'},\n   {'name': 'Education', 'code': 'EX'}],\n  'mjtheme': ['Human development'],\n  'mjtheme_namecode': [{'name': 'Human development', 'code': '8'},\n   {'name': '', 'code': '11'}],\n  'mjthemecode': '8,11',\n  'prodline': 'PE',\n  'prodlinetext': 'IBRD/IDA',\n  'productlinetype': 'L',\n  'project_abstract': {'cdata': 'The development objective of the Second Phase of General Education Quality Improvement Project for Ethiopia is to improve learning conditions in primary and secondary schools and strengthen institutions at different levels of educational administration. The project has six components. The first component is curriculum, textbooks, assessment, examinations, and inspection. This component will support improvement of learning conditions in grades KG-12 by providing increased access to teaching and learning materials and through improvements to the curriculum by assessing the strengths and weaknesses of the current curriculum. This component has following four sub-components: (i) curriculum reform and implementation; (ii) teaching and learning materials; (iii) assessment and examinations; and (iv) inspection. The second component is teacher development program (TDP). This component will support improvements in learning conditions in both primary and secondary schools by advancing the quality of teaching in general education through: (a) enhancing the training of pre-service teachers in teacher education institutions; and (b) improving the quality of in-service teacher training. This component has following three sub-components: (i) pre-service teacher training; (ii) in-service teacher training; and (iii) licensing and relicensing of teachers and school leaders. The third component is school improvement plan. This component will support the strengthening of school planning in order to improve learning outcomes, and to partly fund the school improvement plans through school grants. It has following two sub-components: (i) school improvement plan; and (ii) school grants. The fourth component is management and capacity building, including education management information systems (EMIS). This component will support management and capacity building aspect of the project. This component has following three sub-components: (i) capacity building for education planning and management; (ii) capacity building for school planning and management; and (iii) EMIS. The fifth component is improving the quality of learning and teaching in secondary schools and universities through the use of information and communications technology (ICT). It has following five sub-components: (i) national policy and institution for ICT in general education; (ii) national ICT infrastructure improvement plan for general education; (iii) develop an integrated monitoring, evaluation, and learning system specifically for the ICT component; (iv) teacher professional development in the use of ICT; and (v) provision of limited number of e-Braille display readers with the possibility to scale up to all secondary education schools based on the successful implementation and usage of the readers. The sixth component is program coordination, monitoring and evaluation, and communication. It will support institutional strengthening by developing capacities in all aspects of program coordination, monitoring and evaluation; a new sub-component on communications will support information sharing for better management and accountability. It has following three sub-components: (i) program coordination; (ii) monitoring and evaluation (M and E); and (iii) communication.'},\n  'project_name': 'Ethiopia General Education Quality Improvement Project II',\n  'projectdocs': [{'DocTypeDesc': 'Project Information Document (PID),  Vol.',\n    'DocType': 'PID',\n    'EntityID': '090224b081e545fb_1_0',\n    'DocURL': 'http://www-wds.worldbank.org/servlet/WDSServlet?pcont=details&eid=090224b081e545fb_1_0',\n    'DocDate': '28-AUG-2013'},\n   {'DocTypeDesc': 'Indigenous Peoples Plan (IP),  Vol.1 of 1',\n    'DocType': 'IP',\n    'EntityID': '000442464_20130920111729',\n    'DocURL': 'http://www-wds.worldbank.org/servlet/WDSServlet?pcont=details&eid=000442464_20130920111729',\n    'DocDate': '01-JUL-2013'},\n   {'DocTypeDesc': 'Project Information Document (PID),  Vol.',\n    'DocType': 'PID',\n    'EntityID': '090224b0817b19e2_1_0',\n    'DocURL': 'http://www-wds.worldbank.org/servlet/WDSServlet?pcont=details&eid=090224b0817b19e2_1_0',\n    'DocDate': '22-NOV-2012'}],\n  'projectfinancialtype': 'IDA',\n  'projectstatusdisplay': 'Active',\n  'regionname': 'Africa',\n  'sector': [{'Name': 'Primary education'},\n   {'Name': 'Secondary education'},\n   {'Name': 'Public administration- Other social services'},\n   {'Name': 'Tertiary education'}],\n  'sector1': {'Name': 'Primary education', 'Percent': 46},\n  'sector2': {'Name': 'Secondary education', 'Percent': 26},\n  'sector3': {'Name': 'Public administration- Other social services',\n   'Percent': 16},\n  'sector4': {'Name': 'Tertiary education', 'Percent': 12},\n  'sector_namecode': [{'name': 'Primary education', 'code': 'EP'},\n   {'name': 'Secondary education', 'code': 'ES'},\n   {'name': 'Public administration- Other social services', 'code': 'BS'},\n   {'name': 'Tertiary education', 'code': 'ET'}],\n  'sectorcode': 'ET,BS,ES,EP',\n  'source': 'IBRD',\n  'status': 'Active',\n  'supplementprojectflg': 'N',\n  'theme1': {'Name': 'Education for all', 'Percent': 100},\n  'theme_namecode': [{'name': 'Education for all', 'code': '65'}],\n  'themecode': '65',\n  'totalamt': 130000000,\n  'totalcommamt': 130000000,\n  'url': 'http://www.worldbank.org/projects/P129828/ethiopia-general-education-quality-improvement-project-ii?lang=en'},\n {'_id': {'$oid': '52b213b38594d8a2be17c781'},\n  'approvalfy': 2015,\n  'board_approval_month': 'November',\n  'boardapprovaldate': '2013-11-04T00:00:00Z',\n  'borrower': 'GOVERNMENT OF TUNISIA',\n  'country_namecode': 'Republic of Tunisia!$!TN',\n  'countrycode': 'TN',\n  'countryname': 'Republic of Tunisia',\n  'countryshortname': 'Tunisia',\n  'docty': 'Project Information Document,Integrated Safeguards Data Sheet,Integrated Safeguards Data Sheet,Project Information Document,Integrated Safeguards Data Sheet,Project Information Document',\n  'envassesmentcategorycode': 'C',\n  'grantamt': 4700000,\n  'ibrdcommamt': 0,\n  'id': 'P144674',\n  'idacommamt': 0,\n  'impagency': 'MINISTRY OF FINANCE',\n  'lendinginstr': 'Specific Investment Loan',\n  'lendinginstrtype': 'IN',\n  'lendprojectcost': 5700000,\n  'majorsector_percent': [{'Name': 'Public Administration, Law, and Justice',\n    'Percent': 70},\n   {'Name': 'Public Administration, Law, and Justice', 'Percent': 30}],\n  'mjsector_namecode': [{'name': 'Public Administration, Law, and Justice',\n    'code': 'BX'},\n   {'name': 'Public Administration, Law, and Justice', 'code': 'BX'}],\n  'mjtheme': ['Economic management', 'Social protection and risk management'],\n  'mjtheme_namecode': [{'name': 'Economic management', 'code': '1'},\n   {'name': 'Social protection and risk management', 'code': '6'}],\n  'mjthemecode': '1,6',\n  'prodline': 'RE',\n  'prodlinetext': 'Recipient Executed Activities',\n  'productlinetype': 'L',\n  'project_name': 'TN: DTF Social Protection Reforms Support',\n  'projectdocs': [{'DocTypeDesc': 'Project Information Document (PID),  Vol.1 of 1',\n    'DocType': 'PID',\n    'EntityID': '000333037_20131024115616',\n    'DocURL': 'http://www-wds.worldbank.org/servlet/WDSServlet?pcont=details&eid=000333037_20131024115616',\n    'DocDate': '29-MAR-2013'},\n   {'DocTypeDesc': 'Integrated Safeguards Data Sheet (ISDS),  Vol.1 of 1',\n    'DocType': 'ISDS',\n    'EntityID': '000356161_20131024151611',\n    'DocURL': 'http://www-wds.worldbank.org/servlet/WDSServlet?pcont=details&eid=000356161_20131024151611',\n    'DocDate': '29-MAR-2013'},\n   {'DocTypeDesc': 'Integrated Safeguards Data Sheet (ISDS),  Vol.1 of 1',\n    'DocType': 'ISDS',\n    'EntityID': '000442464_20131031112136',\n    'DocURL': 'http://www-wds.worldbank.org/servlet/WDSServlet?pcont=details&eid=000442464_20131031112136',\n    'DocDate': '29-MAR-2013'},\n   {'DocTypeDesc': 'Project Information Document (PID),  Vol.1 of 1',\n    'DocType': 'PID',\n    'EntityID': '000333037_20131031105716',\n    'DocURL': 'http://www-wds.worldbank.org/servlet/WDSServlet?pcont=details&eid=000333037_20131031105716',\n    'DocDate': '29-MAR-2013'},\n   {'DocTypeDesc': 'Integrated Safeguards Data Sheet (ISDS),  Vol.1 of 1',\n    'DocType': 'ISDS',\n    'EntityID': '000356161_20130305113209',\n    'DocURL': 'http://www-wds.worldbank.org/servlet/WDSServlet?pcont=details&eid=000356161_20130305113209',\n    'DocDate': '16-JAN-2013'},\n   {'DocTypeDesc': 'Project Information Document (PID),  Vol.1 of 1',\n    'DocType': 'PID',\n    'EntityID': '000356161_20130305113716',\n    'DocURL': 'http://www-wds.worldbank.org/servlet/WDSServlet?pcont=details&eid=000356161_20130305113716',\n    'DocDate': '16-JAN-2013'}],\n  'projectfinancialtype': 'OTHER',\n  'projectstatusdisplay': 'Active',\n  'regionname': 'Middle East and North Africa',\n  'sector': [{'Name': 'Public administration- Other social services'},\n   {'Name': 'General public administration sector'}],\n  'sector1': {'Name': 'Public administration- Other social services',\n   'Percent': 70},\n  'sector2': {'Name': 'General public administration sector', 'Percent': 30},\n  'sector_namecode': [{'name': 'Public administration- Other social services',\n    'code': 'BS'},\n   {'name': 'General public administration sector', 'code': 'BZ'}],\n  'sectorcode': 'BZ,BS',\n  'source': 'IBRD',\n  'status': 'Active',\n  'supplementprojectflg': 'N',\n  'theme1': {'Name': 'Other economic management', 'Percent': 30},\n  'theme_namecode': [{'name': 'Other economic management', 'code': '24'},\n   {'name': 'Social safety nets', 'code': '54'}],\n  'themecode': '54,24',\n  'totalamt': 0,\n  'totalcommamt': 4700000,\n  'url': 'http://www.worldbank.org/projects/P144674?lang=en'}]"
     },
     "metadata": {},
     "output_type": "execute_result",
     "execution_count": 69
    }
   ],
   "source": [
    "# load json as string\n",
    "json.load((open('data/world_bank_projects_less.json')))"
   ]
  },
  {
   "cell_type": "code",
   "execution_count": 70,
   "metadata": {
    "pycharm": {
     "is_executing": false
    }
   },
   "outputs": [
    {
     "data": {
      "text/plain": "                                    _id  approvalfy board_approval_month  \\\n0  {'$oid': '52b213b38594d8a2be17c780'}        1999             November   \n1  {'$oid': '52b213b38594d8a2be17c781'}        2015             November   \n\n      boardapprovaldate                                 borrower  \\\n0  2013-11-12T00:00:00Z  FEDERAL DEMOCRATIC REPUBLIC OF ETHIOPIA   \n1  2013-11-04T00:00:00Z                    GOVERNMENT OF TUNISIA   \n\n            closingdate                              country_namecode  \\\n0  2018-07-07T00:00:00Z  Federal Democratic Republic of Ethiopia!$!ET   \n1                   NaN                      Republic of Tunisia!$!TN   \n\n  countrycode                              countryname countryshortname  ...  \\\n0          ET  Federal Democratic Republic of Ethiopia         Ethiopia  ...   \n1          TN                      Republic of Tunisia          Tunisia  ...   \n\n    sectorcode source  status  supplementprojectflg  \\\n0  ET,BS,ES,EP   IBRD  Active                     N   \n1        BZ,BS   IBRD  Active                     N   \n\n                                              theme1  \\\n0      {'Name': 'Education for all', 'Percent': 100}   \n1  {'Name': 'Other economic management', 'Percent...   \n\n                                      theme_namecode themecode   totalamt  \\\n0      [{'name': 'Education for all', 'code': '65'}]        65  130000000   \n1  [{'name': 'Other economic management', 'code':...     54,24          0   \n\n  totalcommamt                                                url  \n0    130000000  http://www.worldbank.org/projects/P129828/ethi...  \n1      4700000  http://www.worldbank.org/projects/P144674?lang=en  \n\n[2 rows x 50 columns]",
      "text/html": "<div>\n<style scoped>\n    .dataframe tbody tr th:only-of-type {\n        vertical-align: middle;\n    }\n\n    .dataframe tbody tr th {\n        vertical-align: top;\n    }\n\n    .dataframe thead th {\n        text-align: right;\n    }\n</style>\n<table border=\"1\" class=\"dataframe\">\n  <thead>\n    <tr style=\"text-align: right;\">\n      <th></th>\n      <th>_id</th>\n      <th>approvalfy</th>\n      <th>board_approval_month</th>\n      <th>boardapprovaldate</th>\n      <th>borrower</th>\n      <th>closingdate</th>\n      <th>country_namecode</th>\n      <th>countrycode</th>\n      <th>countryname</th>\n      <th>countryshortname</th>\n      <th>...</th>\n      <th>sectorcode</th>\n      <th>source</th>\n      <th>status</th>\n      <th>supplementprojectflg</th>\n      <th>theme1</th>\n      <th>theme_namecode</th>\n      <th>themecode</th>\n      <th>totalamt</th>\n      <th>totalcommamt</th>\n      <th>url</th>\n    </tr>\n  </thead>\n  <tbody>\n    <tr>\n      <th>0</th>\n      <td>{'$oid': '52b213b38594d8a2be17c780'}</td>\n      <td>1999</td>\n      <td>November</td>\n      <td>2013-11-12T00:00:00Z</td>\n      <td>FEDERAL DEMOCRATIC REPUBLIC OF ETHIOPIA</td>\n      <td>2018-07-07T00:00:00Z</td>\n      <td>Federal Democratic Republic of Ethiopia!$!ET</td>\n      <td>ET</td>\n      <td>Federal Democratic Republic of Ethiopia</td>\n      <td>Ethiopia</td>\n      <td>...</td>\n      <td>ET,BS,ES,EP</td>\n      <td>IBRD</td>\n      <td>Active</td>\n      <td>N</td>\n      <td>{'Name': 'Education for all', 'Percent': 100}</td>\n      <td>[{'name': 'Education for all', 'code': '65'}]</td>\n      <td>65</td>\n      <td>130000000</td>\n      <td>130000000</td>\n      <td>http://www.worldbank.org/projects/P129828/ethi...</td>\n    </tr>\n    <tr>\n      <th>1</th>\n      <td>{'$oid': '52b213b38594d8a2be17c781'}</td>\n      <td>2015</td>\n      <td>November</td>\n      <td>2013-11-04T00:00:00Z</td>\n      <td>GOVERNMENT OF TUNISIA</td>\n      <td>NaN</td>\n      <td>Republic of Tunisia!$!TN</td>\n      <td>TN</td>\n      <td>Republic of Tunisia</td>\n      <td>Tunisia</td>\n      <td>...</td>\n      <td>BZ,BS</td>\n      <td>IBRD</td>\n      <td>Active</td>\n      <td>N</td>\n      <td>{'Name': 'Other economic management', 'Percent...</td>\n      <td>[{'name': 'Other economic management', 'code':...</td>\n      <td>54,24</td>\n      <td>0</td>\n      <td>4700000</td>\n      <td>http://www.worldbank.org/projects/P144674?lang=en</td>\n    </tr>\n  </tbody>\n</table>\n<p>2 rows × 50 columns</p>\n</div>"
     },
     "metadata": {},
     "output_type": "execute_result",
     "execution_count": 70
    }
   ],
   "source": [
    "# load as Pandas dataframe\n",
    "sample_json_df = pd.read_json('data/world_bank_projects_less.json')\n",
    "sample_json_df"
   ]
  },
  {
   "cell_type": "markdown",
   "metadata": {},
   "source": [
    "****\n",
    "## JSON exercise\n",
    "\n",
    "Using data in file 'data/world_bank_projects.json' and the techniques demonstrated above,\n",
    "1. Find the 10 countries with most projects\n",
    "2. Find the top 10 major project themes (using column 'mjtheme_namecode')\n",
    "3. In 2. above you will notice that some entries have only the code and \n",
    "the name is missing. Create a dataframe with the missing names filled in."
   ]
  },
  {
   "cell_type": "code",
   "execution_count": 71,
   "metadata": {
    "collapsed": true,
    "pycharm": {
     "is_executing": false,
     "name": "#%%\n"
    }
   },
   "outputs": [],
   "source": [
    "# load world bank data project as a dataframe\n",
    "json_df = pd.read_json('data/world_bank_projects.json')"
   ]
  },
  {
   "cell_type": "code",
   "execution_count": 72,
   "outputs": [
    {
     "name": "stdout",
     "text": [
      "                                 project_count\n",
      "countryname                                   \n",
      "People's Republic of China                  19\n",
      "Republic of Indonesia                       19\n",
      "Socialist Republic of Vietnam               17\n",
      "Republic of India                           16\n",
      "Republic of Yemen                           13\n",
      "People's Republic of Bangladesh             12\n",
      "Nepal                                       12\n",
      "Kingdom of Morocco                          12\n",
      "Republic of Mozambique                      11\n",
      "Africa                                      11\n"
     ],
     "output_type": "stream"
    },
    {
     "data": {
      "text/plain": "Text(0.5, 0, 'project count')"
     },
     "metadata": {},
     "output_type": "execute_result",
     "execution_count": 72
    },
    {
     "data": {
      "text/plain": "<Figure size 432x288 with 1 Axes>",
      "image/png": "[encoded data removed]"
     },
     "metadata": {
      "needs_background": "light"
     },
     "output_type": "display_data"
    }
   ],
   "source": [
    "# import matplotlib and numpy\n",
    "import matplotlib.pyplot as plt\n",
    "import numpy as np\n",
    "\n",
    "# Top ten countries with most projects. A simple groupby and count should work.\n",
    "df = json_df[['countryname','project_name']].groupby('countryname').count()\n",
    "df = df.sort_values(by='project_name', ascending=False)[:10]\n",
    "df.columns = ['project_count']\n",
    "\n",
    "# print out top 10\n",
    "print(df)\n",
    "\n",
    "# Bar plot. Note that we reverse index here since we want to put top country on top\n",
    "df.iloc[::-1].plot.barh(label='project_count')\n",
    "plt.title('Top 10 countries with most projects')\n",
    "plt.xticks(range(0, 21))\n",
    "plt.xlabel('project count')"
   ],
   "metadata": {
    "collapsed": false,
    "pycharm": {
     "name": "#%%\n",
     "is_executing": false
    }
   }
  },
  {
   "cell_type": "markdown",
   "source": [
    "Why is there a country with Africa name? Examine closer we see both countryshortname\n",
    "and country_namecode are also the same for all of them. However, if we look at the \n",
    "project name, we see that these are most likely projects for the entire region."
   ],
   "metadata": {
    "collapsed": false,
    "pycharm": {
     "name": "#%% md\n"
    }
   }
  },
  {
   "cell_type": "code",
   "execution_count": 73,
   "outputs": [
    {
     "data": {
      "text/plain": "45     West Africa  Regional Disease Surveillance Cap...\n46     RCIP4 - Regional Communications Infrastructure...\n51     Building Resilience through Innovation, Commun...\n58     Fighting against wildlife poaching and illegal...\n65           Regional Rusumo Falls Hydroelectric Project\n99     Additional Financing-West Africa Agricultural ...\n167    West Africa Regional Communications Infrastruc...\n184    Southern Africa Trade and Transport Facilitati...\n287    Agricultural Productivity Program for Southern...\n353                 Nile Cooperation for Results Project\n449    First Part of the Second Phase of the Niger Ba...\nName: project_name, dtype: object"
     },
     "metadata": {},
     "output_type": "execute_result",
     "execution_count": 73
    }
   ],
   "source": [
    "# Country \"Africa\" project name\n",
    "json_df[json_df.countryshortname=='Africa'].project_name"
   ],
   "metadata": {
    "collapsed": false,
    "pycharm": {
     "name": "#%% \n",
     "is_executing": false
    }
   }
  },
  {
   "cell_type": "markdown",
   "source": [
    "### Question 2\n",
    "\n",
    "The second part of this is much faster without loading dataframe and \n",
    "using 3 for loops. Lets use string and json normalize here. "
   ],
   "metadata": {
    "collapsed": false,
    "pycharm": {
     "name": "#%% md\n"
    }
   }
  },
  {
   "cell_type": "code",
   "execution_count": 74,
   "outputs": [
    {
     "name": "stdout",
     "text": [
      "{'1': 'Economic management', '10': 'Rural development', '11': 'Environment and natural resources management', '2': 'Public sector governance', '3': 'Rule of law', '4': 'Financial and private sector development', '5': 'Trade and integration', '6': 'Social protection and risk management', '7': 'Social dev/gender/inclusion', '8': 'Human development', '9': 'Urban development'}\n",
      "\n",
      "                                              theme_count\n",
      "code                                                     \n",
      "Environment and natural resources management          250\n",
      "Rural development                                     216\n",
      "Human development                                     210\n",
      "Public sector governance                              199\n",
      "Social protection and risk management                 168\n",
      "Financial and private sector development              146\n",
      "Social dev/gender/inclusion                           130\n",
      "Trade and integration                                  77\n",
      "Urban development                                      50\n",
      "Economic management                                    38\n",
      "Rule of law                                            15\n",
      "\n"
     ],
     "output_type": "stream"
    },
    {
     "name": "stderr",
     "text": [
      "d:\\pycharmprojects\\springboard\\venv\\lib\\site-packages\\ipykernel_launcher.py:5: FutureWarning: pandas.io.json.json_normalize is deprecated, use pandas.json_normalize instead\n",
      "  \"\"\"\n"
     ],
     "output_type": "stream"
    },
    {
     "data": {
      "text/plain": "Text(0.5, 0, 'theme count')"
     },
     "metadata": {},
     "output_type": "execute_result",
     "execution_count": 74
    },
    {
     "data": {
      "text/plain": "<Figure size 432x288 with 1 Axes>",
      "image/png": "[encoded data removed]"
     },
     "metadata": {
      "needs_background": "light"
     },
     "output_type": "display_data"
    }
   ],
   "source": [
    "# load json file as string\n",
    "json_str = json.load((open('data/world_bank_projects.json')))\n",
    "\n",
    "# Normalize into dataframe\n",
    "mjtheme_df = json_normalize(json_str, 'mjtheme_namecode')\n",
    "\n",
    "# Group major theme by code number and get the first element - its name\n",
    "theme_df = mjtheme_df[mjtheme_df['name'] != ''].groupby('code').first()\n",
    "\n",
    "# Save the theme to dictionary to map out the name later\n",
    "theme_dict = theme_df.to_dict().get('name')\n",
    "print(theme_dict)\n",
    "print()\n",
    "\n",
    "# major theme count group by code\n",
    "df = mjtheme_df.groupby('code').count().sort_values(by='name', ascending=False)\n",
    "\n",
    "# Adding theme column for pl\n",
    "df.index = df.index.map(theme_dict.get)\n",
    "df.columns = ['theme_count']\n",
    "print(df)\n",
    "print()\n",
    "\n",
    "# bar plot\n",
    "df.iloc[::-1].plot.barh(label='theme_count')\n",
    "plt.title('Top 10 project themes')\n",
    "plt.xticks(np.arange(0,261,step=20))\n",
    "plt.xlabel('theme count')"
   ],
   "metadata": {
    "collapsed": false,
    "pycharm": {
     "name": "#%% \n",
     "is_executing": false
    }
   }
  },
  {
   "cell_type": "markdown",
   "source": [
    "### Question 3\n",
    "\n",
    "Again a simple map will be the fastest way to solve this. Note that I only replace\n",
    "the theme name in \n",
    "\n",
    "Note: We can do one liner but explicit is better than implicit."
   ],
   "metadata": {
    "collapsed": false,
    "pycharm": {
     "name": "#%% md\n"
    }
   }
  },
  {
   "cell_type": "code",
   "execution_count": 77,
   "outputs": [
    {
     "data": {
      "text/plain": "   code                                          name\n0     8                             Human development\n1    11  Environment and natural resources management\n2     1                           Economic management\n3     6         Social protection and risk management\n4     5                         Trade and integration\n5     2                      Public sector governance\n6    11  Environment and natural resources management\n7     6         Social protection and risk management\n8     7                   Social dev/gender/inclusion\n9     7                   Social dev/gender/inclusion\n10    5                         Trade and integration\n11    4      Financial and private sector development\n12    6         Social protection and risk management\n13    6         Social protection and risk management\n14    2                      Public sector governance\n15    4      Financial and private sector development\n16   11  Environment and natural resources management\n17    8                             Human development\n18   10                             Rural development\n19    7                   Social dev/gender/inclusion",
      "text/html": "<div>\n<style scoped>\n    .dataframe tbody tr th:only-of-type {\n        vertical-align: middle;\n    }\n\n    .dataframe tbody tr th {\n        vertical-align: top;\n    }\n\n    .dataframe thead th {\n        text-align: right;\n    }\n</style>\n<table border=\"1\" class=\"dataframe\">\n  <thead>\n    <tr style=\"text-align: right;\">\n      <th></th>\n      <th>code</th>\n      <th>name</th>\n    </tr>\n  </thead>\n  <tbody>\n    <tr>\n      <th>0</th>\n      <td>8</td>\n      <td>Human development</td>\n    </tr>\n    <tr>\n      <th>1</th>\n      <td>11</td>\n      <td>Environment and natural resources management</td>\n    </tr>\n    <tr>\n      <th>2</th>\n      <td>1</td>\n      <td>Economic management</td>\n    </tr>\n    <tr>\n      <th>3</th>\n      <td>6</td>\n      <td>Social protection and risk management</td>\n    </tr>\n    <tr>\n      <th>4</th>\n      <td>5</td>\n      <td>Trade and integration</td>\n    </tr>\n    <tr>\n      <th>5</th>\n      <td>2</td>\n      <td>Public sector governance</td>\n    </tr>\n    <tr>\n      <th>6</th>\n      <td>11</td>\n      <td>Environment and natural resources management</td>\n    </tr>\n    <tr>\n      <th>7</th>\n      <td>6</td>\n      <td>Social protection and risk management</td>\n    </tr>\n    <tr>\n      <th>8</th>\n      <td>7</td>\n      <td>Social dev/gender/inclusion</td>\n    </tr>\n    <tr>\n      <th>9</th>\n      <td>7</td>\n      <td>Social dev/gender/inclusion</td>\n    </tr>\n    <tr>\n      <th>10</th>\n      <td>5</td>\n      <td>Trade and integration</td>\n    </tr>\n    <tr>\n      <th>11</th>\n      <td>4</td>\n      <td>Financial and private sector development</td>\n    </tr>\n    <tr>\n      <th>12</th>\n      <td>6</td>\n      <td>Social protection and risk management</td>\n    </tr>\n    <tr>\n      <th>13</th>\n      <td>6</td>\n      <td>Social protection and risk management</td>\n    </tr>\n    <tr>\n      <th>14</th>\n      <td>2</td>\n      <td>Public sector governance</td>\n    </tr>\n    <tr>\n      <th>15</th>\n      <td>4</td>\n      <td>Financial and private sector development</td>\n    </tr>\n    <tr>\n      <th>16</th>\n      <td>11</td>\n      <td>Environment and natural resources management</td>\n    </tr>\n    <tr>\n      <th>17</th>\n      <td>8</td>\n      <td>Human development</td>\n    </tr>\n    <tr>\n      <th>18</th>\n      <td>10</td>\n      <td>Rural development</td>\n    </tr>\n    <tr>\n      <th>19</th>\n      <td>7</td>\n      <td>Social dev/gender/inclusion</td>\n    </tr>\n  </tbody>\n</table>\n</div>"
     },
     "metadata": {},
     "output_type": "execute_result",
     "execution_count": 77
    }
   ],
   "source": [
    "# Replace the empty theme name '' with np.nan\n",
    "mjtheme_df = mjtheme_df.replace('', np.nan)\n",
    "\n",
    "# Using fillna and map to fill in Nan value\n",
    "mjtheme_df.name = mjtheme_df.name.fillna(mjtheme_df.code.map(theme_dict))\n",
    "\n",
    "# Check result\n",
    "mjtheme_df.head(20)\n",
    "\n",
    "\n"
   ],
   "metadata": {
    "collapsed": false,
    "pycharm": {
     "name": "#%%\n",
     "is_executing": false
    }
   }
  }
 ],
 "metadata": {
  "kernelspec": {
   "display_name": "Python 3",
   "language": "python",
   "name": "python3"
  },
  "language_info": {
   "codemirror_mode": {
    "name": "ipython",
    "version": 3
   },
   "file_extension": ".py",
   "mimetype": "text/x-python",
   "name": "python",
   "nbconvert_exporter": "python",
   "pygments_lexer": "ipython3",
   "version": "3.7.3"
  },
  "pycharm": {
   "stem_cell": {
    "cell_type": "raw",
    "source": [],
    "metadata": {
     "collapsed": false
    }
   }
  }
 },
 "nbformat": 4,
 "nbformat_minor": 1
}
