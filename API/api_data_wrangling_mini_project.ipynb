{
 "cells": [
  {
   "cell_type": "markdown",
   "metadata": {},
   "source": [
    "This exercise will require you to pull some data from the Qunadl API. Qaundl is currently the most widely used aggregator of financial market data."
   ]
  },
  {
   "cell_type": "markdown",
   "metadata": {},
   "source": [
    "As a first step, you will need to register a free account on the http://www.quandl.com website."
   ]
  },
  {
   "cell_type": "markdown",
   "metadata": {},
   "source": [
    "After you register, you will be provided with a unique API key, that you should store:"
   ]
  },
  {
   "cell_type": "code",
   "execution_count": 9,
   "metadata": {
    "collapsed": true,
    "pycharm": {
     "is_executing": false
    }
   },
   "outputs": [],
   "source": [
    "# Store the API key as a string - according to PEP8, constants are always named in all upper case\n",
    "API_KEY = ''"
   ]
  },
  {
   "cell_type": "markdown",
   "metadata": {},
   "source": [
    "Qaundl has a large number of data sources, but, unfortunately, most of them require a Premium subscription. Still, there are also a good number of free datasets."
   ]
  },
  {
   "cell_type": "markdown",
   "metadata": {},
   "source": [
    "For this mini project, we will focus on equities data from the Frankfurt Stock Exhange (FSE), which is available for free. We'll try and analyze the stock prices of a company called Carl Zeiss Meditec, which manufactures tools for eye examinations, as well as medical lasers for laser eye surgery: https://www.zeiss.com/meditec/int/home.html. The company is listed under the stock ticker AFX_X."
   ]
  },
  {
   "cell_type": "markdown",
   "metadata": {},
   "source": [
    "You can find the detailed Quandl API instructions here: https://docs.quandl.com/docs/time-series"
   ]
  },
  {
   "cell_type": "markdown",
   "metadata": {},
   "source": [
    "While there is a dedicated Python package for connecting to the Quandl API, we would prefer that you use the *requests* package, which can be easily downloaded using *pip* or *conda*. You can find the documentation for the package here: http://docs.python-requests.org/en/master/ "
   ]
  },
  {
   "cell_type": "markdown",
   "metadata": {},
   "source": [
    "Finally, apart from the *requests* package, you are encouraged to not use any third party Python packages, such as *pandas*, and instead focus on what's available in the Python Standard Library (the *collections* module might come in handy: https://pymotw.com/3/collections/ ).\n",
    "Also, since you won't have access to DataFrames, you are encouraged to us Python's native data structures - preferably dictionaries, though some questions can also be answered using lists.\n",
    "You can read more on these data structures here: https://docs.python.org/3/tutorial/datastructures.html"
   ]
  },
  {
   "cell_type": "markdown",
   "metadata": {},
   "source": [
    "Keep in mind that the JSON responses you will be getting from the API map almost one-to-one to Python's dictionaries. Unfortunately, they can be very nested, so make sure you read up on indexing dictionaries in the documentation provided above."
   ]
  },
  {
   "cell_type": "code",
   "execution_count": 10,
   "metadata": {
    "collapsed": true,
    "pycharm": {
     "is_executing": false
    }
   },
   "outputs": [],
   "source": [
    "# First, import the relevant modules\n",
    "from _collections import *\n",
    "import json\n",
    "import requests\n",
    "import pprint"
   ]
  },
  {
   "cell_type": "code",
   "execution_count": 11,
   "metadata": {
    "collapsed": true,
    "pycharm": {
     "is_executing": false
    }
   },
   "outputs": [],
   "source": [
    "# Now, call the Quandl API and pull out a small sample of the data (only one day) to get a glimpse\n",
    "# into the JSON structure that will be returned\n",
    "# Set up parameters\n",
    "database_code = 'FSE'\n",
    "dataset_code = 'AFX_X'\n",
    "return_format = 'json'\n",
    "start_date = '2017-01-01'\n",
    "end_date = '2017-01-03'\n",
    "\n",
    "url = f'https://www.quandl.com/api/v3/datasets/{database_code}/{dataset_code}/data.{return_format}?start_date={start_date}&end_date={end_date}&api_key={API_KEY}'\n",
    "r = requests.get(url)\n",
    "data = r.json()\n",
    "\n",
    "# Lets make things easier and let unnest dataset_data level\n",
    "data = data['dataset_data']"
   ]
  },
  {
   "cell_type": "code",
   "execution_count": 12,
   "metadata": {
    "collapsed": true,
    "pycharm": {
     "is_executing": false
    }
   },
   "outputs": [
    {
     "name": "stdout",
     "text": [
      "{'collapse': None,\n",
      " 'column_index': None,\n",
      " 'column_names': ['Date',\n",
      "                  'Open',\n",
      "                  'High',\n",
      "                  'Low',\n",
      "                  'Close',\n",
      "                  'Change',\n",
      "                  'Traded Volume',\n",
      "                  'Turnover',\n",
      "                  'Last Price of the Day',\n",
      "                  'Daily Traded Units',\n",
      "                  'Daily Turnover'],\n",
      " 'data': [['2017-01-03',\n",
      "           35.9,\n",
      "           35.93,\n",
      "           35.34,\n",
      "           35.48,\n",
      "           None,\n",
      "           70618.0,\n",
      "           2515473.0,\n",
      "           None,\n",
      "           None,\n",
      "           None],\n",
      "          ['2017-01-02',\n",
      "           34.99,\n",
      "           35.94,\n",
      "           34.99,\n",
      "           35.8,\n",
      "           None,\n",
      "           44700.0,\n",
      "           1590561.0,\n",
      "           None,\n",
      "           None,\n",
      "           None]],\n",
      " 'end_date': '2017-01-03',\n",
      " 'frequency': 'daily',\n",
      " 'limit': None,\n",
      " 'order': None,\n",
      " 'start_date': '2017-01-01',\n",
      " 'transform': None}\n"
     ],
     "output_type": "stream"
    }
   ],
   "source": [
    "# Inspect the JSON structure of the object you created, and take note of how nested it is,\n",
    "# as well as the overall structure\n",
    "# pretty print this to make sense\n",
    "pprint.pprint(data)"
   ]
  },
  {
   "cell_type": "markdown",
   "metadata": {},
   "source": [
    "These are your tasks for this mini project:\n",
    "\n",
    "1. Collect data from the Franfurt Stock Exchange, for the ticker AFX_X, for the whole year 2017 (keep in mind that the date format is YYYY-MM-DD).\n",
    "2. Convert the returned JSON object into a Python dictionary.\n",
    "3. Calculate what the highest and lowest opening prices were for the stock in this period.\n",
    "4. What was the largest change in any one day (based on High and Low price)?\n",
    "5. What was the largest change between any two days (based on Closing Price)?\n",
    "6. What was the average daily trading volume during this year?\n",
    "7. (Optional) What was the median trading volume during this year. (Note: you may need to implement your own function for calculating the median.)\n",
    "\n",
    "\n",
    "### 1 + 2) Collect data for the whole year"
   ]
  },
  {
   "cell_type": "code",
   "execution_count": 13,
   "metadata": {
    "collapsed": true,
    "pycharm": {
     "is_executing": false
    }
   },
   "outputs": [],
   "source": [
    "# Set up parameters\n",
    "database_code = 'FSE'\n",
    "dataset_code = 'AFX_X'\n",
    "return_format = 'json'\n",
    "start_date = '2017-01-01'\n",
    "end_date = '2017-12-31'\n",
    "\n",
    "url = f'https://www.quandl.com/api/v3/datasets/{database_code}/{dataset_code}/data.{return_format}?start_date={start_date}&end_date={end_date}&api_key={API_KEY}'\n",
    "\n",
    "# request into json and conver to dict\n",
    "r = requests.get(url)\n",
    "data = r.json()['dataset_data']"
   ]
  },
  {
   "cell_type": "markdown",
   "source": [
    "### 3) Highest and lowest price\n",
    "\n",
    "There is a issue of None value in the list price. However, it is easy to work around with generator \n",
    "expression. \n",
    "\n",
    "There must be a faster way to get the min/max price?"
   ],
   "metadata": {
    "collapsed": false,
    "pycharm": {
     "name": "#%% md\n",
     "is_executing": false
    }
   }
  },
  {
   "cell_type": "code",
   "execution_count": 14,
   "outputs": [
    {
     "name": "stdout",
     "text": [
      "The minimum open price:  34.0 \n",
      "\n",
      "The minimum open price:  53.11\n"
     ],
     "output_type": "stream"
    }
   ],
   "source": [
    "# Open price list\n",
    "open_prices = []\n",
    "\n",
    "# the second value of each list in data.data list is the open price\n",
    "for value in data.get('data'):\n",
    "   open_prices.append(value[1])\n",
    "\n",
    "# Find min and max open prices   \n",
    "min_open = min(price for price in open_prices if price is not None)\n",
    "max_open = max(price for price in open_prices if price is not None)\n",
    "\n",
    "# print to console\n",
    "print('The minimum open price: ', min_open,'\\n')\n",
    "print('The minimum open price: ', max_open)"
   ],
   "metadata": {
    "collapsed": false,
    "pycharm": {
     "name": "#%%\n",
     "is_executing": false
    }
   }
  },
  {
   "cell_type": "markdown",
   "source": [
    "### 4) The largest change in one day"
   ],
   "metadata": {
    "collapsed": false,
    "pycharm": {
     "name": "#%% md\n",
     "is_executing": false
    }
   }
  },
  {
   "cell_type": "code",
   "execution_count": 15,
   "outputs": [
    {
     "name": "stdout",
     "text": [
      "The maximum change in one day is: 2.8100000000000023\n"
     ],
     "output_type": "stream"
    }
   ],
   "source": [
    "# Change list\n",
    "delta = []\n",
    "\n",
    "# Similarly as above, loop over and get the delta\n",
    "for value in data.get('data'):\n",
    "    delta.append(value[2] - value[3])\n",
    "    \n",
    "# Print max value to console\n",
    "print('The maximum change in one day is:', max(delta))"
   ],
   "metadata": {
    "collapsed": false,
    "pycharm": {
     "name": "#%%\n",
     "is_executing": false
    }
   }
  },
  {
   "cell_type": "markdown",
   "source": [
    "### 5) The largest change in between any two days (closing price)\n",
    "\n",
    "Simple list slicing is sufficient"
   ],
   "metadata": {
    "collapsed": false,
    "pycharm": {
     "name": "#%% md\n",
     "is_executing": false
    }
   }
  },
  {
   "cell_type": "code",
   "execution_count": 18,
   "outputs": [
    {
     "name": "stdout",
     "text": [
      "Largest change in stock closing price every 2 days:  3.1499999999999986\n"
     ],
     "output_type": "stream"
    }
   ],
   "source": [
    "# change list\n",
    "delta = []\n",
    "\n",
    "# Change of price based on closing\n",
    "for value in data.get('data'):\n",
    "    delta.append(value[4])\n",
    "    \n",
    "# Slice the closing price every two day\n",
    "delta = [(b-a) for a, b in zip(delta[::2], delta[2::2])]\n",
    "\n",
    "# Print the largest change\n",
    "print('Largest change in stock closing price every 2 days: ',max(delta))\n"
   ],
   "metadata": {
    "collapsed": false,
    "pycharm": {
     "name": "#%%\n",
     "is_executing": false
    }
   }
  },
  {
   "cell_type": "markdown",
   "source": [
    "### 6, 7) Average daily trading volume during this year.\n",
    "\n",
    "Daily traded unit is the sixth element"
   ],
   "metadata": {
    "collapsed": false,
    "pycharm": {
     "name": "#%% md\n",
     "is_executing": false
    }
   }
  },
  {
   "cell_type": "code",
   "execution_count": 26,
   "outputs": [
    {
     "name": "stdout",
     "text": [
      "Average volume traded:  89124.33725490196\n",
      "Average volume traded:  76286.0\n"
     ],
     "output_type": "stream"
    }
   ],
   "source": [
    "# import mean and median from statistic\n",
    "from statistics import mean, median\n",
    "\n",
    "# volume list\n",
    "volume = []\n",
    "\n",
    "# volume list\n",
    "for value in data.get('data'):\n",
    "    volume.append(value[6])\n",
    "    \n",
    "# print the average and median\n",
    "print('Average volume traded: ', mean(volume))\n",
    "print('Average volume traded: ', median(volume))"
   ],
   "metadata": {
    "collapsed": false,
    "pycharm": {
     "name": "#%%\n",
     "is_executing": false
    }
   }
  },
  {
   "cell_type": "markdown",
   "source": [
    "### 7) Implementing own median function\n",
    "\n",
    "Median is found by using sort and find the middle number. If list has even elements, use average \n",
    "between them to find the median."
   ],
   "metadata": {
    "collapsed": false,
    "pycharm": {
     "name": "#%% md\n"
    }
   }
  },
  {
   "cell_type": "code",
   "execution_count": 49,
   "outputs": [],
   "source": [
    "def find_median(X):\n",
    "    # length of X\n",
    "    n = len(X)\n",
    "    \n",
    "    # sorted X\n",
    "    X.sort()\n",
    "    \n",
    "    # find median   \n",
    "    if n % 2 == 0:\n",
    "        median_val = (X[n//2] + X[n//2 - 1])*0.5\n",
    "    else:\n",
    "        median_val = X[n//2]\n",
    "        \n",
    "    return median_val\n",
    "        "
   ],
   "metadata": {
    "collapsed": false,
    "pycharm": {
     "name": "#%%\n",
     "is_executing": false
    }
   }
  },
  {
   "cell_type": "code",
   "execution_count": 50,
   "outputs": [
    {
     "data": {
      "text/plain": "76286.0"
     },
     "metadata": {},
     "output_type": "execute_result",
     "execution_count": 50
    }
   ],
   "source": [
    "# Test own function which gives same result\n",
    "find_median(volume)\n",
    "\n",
    "\n",
    "\n",
    "\n"
   ],
   "metadata": {
    "collapsed": false,
    "pycharm": {
     "name": "#%%\n",
     "is_executing": false
    }
   }
  }
 ],
 "metadata": {
  "kernelspec": {
   "name": "python3",
   "language": "python",
   "display_name": "Python 3"
  },
  "language_info": {
   "codemirror_mode": {
    "name": "ipython",
    "version": 2
   },
   "file_extension": ".py",
   "mimetype": "text/x-python",
   "name": "python",
   "nbconvert_exporter": "python",
   "pygments_lexer": "ipython2",
   "version": "2.7.13"
  },
  "pycharm": {
   "stem_cell": {
    "cell_type": "raw",
    "source": [],
    "metadata": {
     "collapsed": false
    }
   }
  }
 },
 "nbformat": 4,
 "nbformat_minor": 2
}
