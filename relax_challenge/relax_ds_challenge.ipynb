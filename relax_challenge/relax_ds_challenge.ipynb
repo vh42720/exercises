{
 "cells": [
  {
   "cell_type": "markdown",
   "metadata": {
    "collapsed": true,
    "pycharm": {
     "name": "#%% md\n"
    }
   },
   "source": [
    "## Relax take-home challenge"
   ]
  },
  {
   "cell_type": "code",
   "execution_count": 76,
   "outputs": [],
   "source": [
    "import numpy as np\n",
    "import pandas as pd\n",
    "import seaborn as sns\n",
    "import matplotlib.pyplot as plt\n",
    "\n",
    "from sklearn.model_selection import train_test_split, cross_val_score\n",
    "from sklearn.ensemble import RandomForestClassifier\n",
    "from sklearn.metrics import classification_report\n",
    "\n",
    "from utils import adopted_user\n",
    "from visuals import *\n",
    "\n",
    "%matplotlib inline"
   ],
   "metadata": {
    "collapsed": false,
    "pycharm": {
     "name": "#%%\n"
    }
   }
  },
  {
   "cell_type": "code",
   "execution_count": 77,
   "outputs": [],
   "source": [
    "data_path = 'D:\\\\PycharmProjects\\\\springboard\\\\exercises\\\\relax_challenge'\n",
    "users = pd.read_csv(\n",
    "    f'{data_path}\\\\takehome_users.csv',\n",
    "    encoding='iso-8859-1'\n",
    ")\n",
    "engagement = pd.read_csv(f'{data_path}\\\\takehome_user_engagement.csv')"
   ],
   "metadata": {
    "collapsed": false,
    "pycharm": {
     "name": "#%%\n"
    }
   }
  },
  {
   "cell_type": "code",
   "execution_count": 78,
   "outputs": [
    {
     "name": "stdout",
     "output_type": "stream",
     "text": [
      "<class 'pandas.core.frame.DataFrame'>\n",
      "RangeIndex: 12000 entries, 0 to 11999\n",
      "Data columns (total 10 columns):\n",
      " #   Column                      Non-Null Count  Dtype  \n",
      "---  ------                      --------------  -----  \n",
      " 0   object_id                   12000 non-null  int64  \n",
      " 1   creation_time               12000 non-null  object \n",
      " 2   name                        12000 non-null  object \n",
      " 3   email                       12000 non-null  object \n",
      " 4   creation_source             12000 non-null  object \n",
      " 5   last_session_creation_time  8823 non-null   float64\n",
      " 6   opted_in_to_mailing_list    12000 non-null  int64  \n",
      " 7   enabled_for_marketing_drip  12000 non-null  int64  \n",
      " 8   org_id                      12000 non-null  int64  \n",
      " 9   invited_by_user_id          6417 non-null   float64\n",
      "dtypes: float64(2), int64(4), object(4)\n",
      "memory usage: 937.6+ KB\n",
      "None\n"
     ]
    }
   ],
   "source": [
    "print(users.info())"
   ],
   "metadata": {
    "collapsed": false,
    "pycharm": {
     "name": "#%%\n"
    }
   }
  },
  {
   "cell_type": "code",
   "execution_count": 79,
   "outputs": [
    {
     "name": "stdout",
     "output_type": "stream",
     "text": [
      "<class 'pandas.core.frame.DataFrame'>\n",
      "RangeIndex: 207917 entries, 0 to 207916\n",
      "Data columns (total 3 columns):\n",
      " #   Column      Non-Null Count   Dtype \n",
      "---  ------      --------------   ----- \n",
      " 0   time_stamp  207917 non-null  object\n",
      " 1   user_id     207917 non-null  int64 \n",
      " 2   visited     207917 non-null  int64 \n",
      "dtypes: int64(2), object(1)\n",
      "memory usage: 4.8+ MB\n",
      "None\n"
     ]
    }
   ],
   "source": [
    "print(engagement.info())"
   ],
   "metadata": {
    "collapsed": false,
    "pycharm": {
     "name": "#%%\n"
    }
   }
  },
  {
   "cell_type": "markdown",
   "source": [
    "## Retrieve the adopted user status"
   ],
   "metadata": {
    "collapsed": false,
    "pycharm": {
     "name": "#%% md\n"
    }
   }
  },
  {
   "cell_type": "code",
   "execution_count": 80,
   "outputs": [
    {
     "data": {
      "text/plain": "8823"
     },
     "execution_count": 80,
     "metadata": {},
     "output_type": "execute_result"
    }
   ],
   "source": [
    "# unique number of users\n",
    "engagement['user_id'].nunique()"
   ],
   "metadata": {
    "collapsed": false,
    "pycharm": {
     "name": "#%%\n"
    }
   }
  },
  {
   "cell_type": "code",
   "execution_count": 81,
   "outputs": [
    {
     "name": "stdout",
     "output_type": "stream",
     "text": [
      "Number of adopted users: 1656\n"
     ]
    }
   ],
   "source": [
    "# convert time stamp to datetime format\n",
    "engagement['time_stamp'] = pd.to_datetime(\n",
    "    engagement['time_stamp'], format='%Y-%m-%d %H:%M:%S'\n",
    ")\n",
    "\n",
    "# Create adopted user variable\n",
    "adopted_idx = engagement.groupby('user_id').apply(adopted_user)\n",
    "print('Number of adopted users:', sum(adopted_idx))"
   ],
   "metadata": {
    "collapsed": false,
    "pycharm": {
     "name": "#%%\n"
    }
   }
  },
  {
   "cell_type": "markdown",
   "source": [
    "## Clean and feature engineer\n",
    "\n",
    "Since the dataset here is old, I will avoid using any current date in the\n",
    "data set. Nevertheless, we can calculate the time delta between the time\n",
    "user create the account and the time since their last session. Lets call\n",
    "this feature time_create_last_session.\n",
    "\n",
    "A better way to do this would be calculate:\n",
    "1. account_age = current_time - creation_date\n",
    "2. time_since_last_login = current_time - last_session_creation_time"
   ],
   "metadata": {
    "collapsed": false,
    "pycharm": {
     "name": "#%% md\n"
    }
   }
  },
  {
   "cell_type": "code",
   "execution_count": 82,
   "outputs": [
    {
     "data": {
      "text/plain": "8760"
     },
     "execution_count": 82,
     "metadata": {},
     "output_type": "execute_result"
    }
   ],
   "source": [
    "# numbers of missing data for each column\n",
    "users.isnull().sum().sum()"
   ],
   "metadata": {
    "collapsed": false,
    "pycharm": {
     "name": "#%%\n"
    }
   }
  },
  {
   "cell_type": "code",
   "execution_count": 83,
   "outputs": [],
   "source": [
    "# Remove columns with no useful information from user df\n",
    "users.drop(\n",
    "    ['name', 'email', 'object_id', 'invited_by_user_id'],\n",
    "    axis=1,\n",
    "    inplace=True\n",
    ")"
   ],
   "metadata": {
    "collapsed": false,
    "pycharm": {
     "name": "#%%\n"
    }
   }
  },
  {
   "cell_type": "code",
   "execution_count": 84,
   "outputs": [],
   "source": [
    "# convert unix column to days\n",
    "users['last_session_creation_time'] = pd.to_datetime(\n",
    "    users['last_session_creation_time'],\n",
    "    unit='s'\n",
    ")\n",
    "\n",
    "# convert timestamp to datetime\n",
    "users['creation_time'] = pd.to_datetime(\n",
    "    users['creation_time'], format='%Y-%m-%d %H:%M:%S'\n",
    ")\n",
    "\n",
    "# Create time_create_last_session\n",
    "users['time_create_last_session'] = users['last_session_creation_time'] - users['creation_time']\n",
    "users['time_create_last_session'] = pd.to_numeric(users['time_create_last_session'])\n",
    "\n",
    "# Remove the dates before fitting models\n",
    "users.drop(['creation_time', 'last_session_creation_time'], axis=1, inplace=True)"
   ],
   "metadata": {
    "collapsed": false,
    "pycharm": {
     "name": "#%%\n"
    }
   }
  },
  {
   "cell_type": "code",
   "execution_count": 85,
   "outputs": [],
   "source": [
    "# merge the adopted_idx as the predictor to users\n",
    "users = pd.concat([users, adopted_idx], axis=1, join='inner')\n",
    "users = users.rename(columns={0: 'adopted_user'})"
   ],
   "metadata": {
    "collapsed": false,
    "pycharm": {
     "name": "#%%\n"
    }
   }
  },
  {
   "cell_type": "markdown",
   "source": [
    "### EDA\n",
    "\n",
    "The only 3 columns that can be easily observed are:\n",
    "1. creation source\n",
    "2. opted_in_to_mailing_list\n",
    "3. enabled_for_marketing_drip\n",
    "\n",
    "Plotting these 3 showed they have a very small effect on the overall\n",
    "adoption rate. (Notice the percentage is almost the same for each category)\n",
    "\n",
    "Creation_time can be used along with current time to see if longer\n",
    "account has any effect on the adoption rate."
   ],
   "metadata": {
    "collapsed": false,
    "pycharm": {
     "name": "#%% md\n"
    }
   }
  },
  {
   "cell_type": "code",
   "execution_count": 92,
   "outputs": [
    {
     "data": {
      "text/plain": "<Figure size 432x288 with 1 Axes>",
      "image/png": "[encoded data removed]"
     },
     "metadata": {
      "needs_background": "light"
     },
     "output_type": "display_data"
    }
   ],
   "source": [
    "# Creation source\n",
    "sns.countplot(x='creation_source', hue='adopted_user', data=users)\n",
    "plt.savefig(f'{data_path}\\\\image\\\\creation_source.png')"
   ],
   "metadata": {
    "collapsed": false,
    "pycharm": {
     "name": "#%%\n"
    }
   }
  },
  {
   "cell_type": "code",
   "execution_count": 93,
   "outputs": [
    {
     "data": {
      "text/plain": "<Figure size 432x288 with 1 Axes>",
      "image/png": "[encoded data removed]"
     },
     "metadata": {
      "needs_background": "light"
     },
     "output_type": "display_data"
    }
   ],
   "source": [
    "# Creation source\n",
    "sns.countplot(x='opted_in_to_mailing_list', hue='adopted_user', data=users)\n",
    "plt.savefig(f'{data_path}\\\\image\\\\mail.png')"
   ],
   "metadata": {
    "collapsed": false,
    "pycharm": {
     "name": "#%%\n"
    }
   }
  },
  {
   "cell_type": "code",
   "execution_count": 94,
   "outputs": [
    {
     "data": {
      "text/plain": "<Figure size 432x288 with 1 Axes>",
      "image/png": "[encoded data removed]"
     },
     "metadata": {
      "needs_background": "light"
     },
     "output_type": "display_data"
    }
   ],
   "source": [
    "# Creation source\n",
    "sns.countplot(x='enabled_for_marketing_drip', hue='adopted_user', data=users)\n",
    "plt.savefig(f'{data_path}\\\\image\\\\marketing.png')"
   ],
   "metadata": {
    "collapsed": false,
    "pycharm": {
     "name": "#%%\n"
    }
   }
  },
  {
   "cell_type": "markdown",
   "source": [
    "## Models\n",
    "\n",
    "Random forest is the good model choice for this classification problem\n",
    "since it provides the feature importance that can be useful in the report.\n",
    "\n",
    "Since this is a quick report, I will refrain from create 3 partitions\n",
    "for train, validation and test sets. I will set up only train and test\n",
    "set to get a general view of the most important factors here.\n",
    "\n",
    "I also transform the creation source to dummy variables. I drop and use\n",
    "personal projects inside creation source as the baseline for comparison."
   ],
   "metadata": {
    "collapsed": false,
    "pycharm": {
     "name": "#%% md\n"
    }
   }
  },
  {
   "cell_type": "code",
   "execution_count": 89,
   "outputs": [],
   "source": [
    "# set seed\n",
    "np.random.seed(25)\n",
    "\n",
    "# Get X and y\n",
    "y = users.adopted_user\n",
    "X = users.drop('adopted_user', axis=1)\n",
    "\n",
    "# Transform creation source into dummies variable\n",
    "creation_src_dummy = pd.get_dummies(\n",
    "    users.creation_source,\n",
    "    prefix='source_',\n",
    "    drop_first=True\n",
    ")\n",
    "X = pd.concat([X, creation_src_dummy], axis=1)\n",
    "X = X.drop('creation_source', axis=1)\n",
    "\n",
    "# split train test set\n",
    "X_train, X_test, y_train, y_test = train_test_split(\n",
    "    X, y, random_state=25, test_size=0.3\n",
    ")"
   ],
   "metadata": {
    "collapsed": false,
    "pycharm": {
     "name": "#%%\n"
    }
   }
  },
  {
   "cell_type": "markdown",
   "source": [
    "### Random Forest"
   ],
   "metadata": {
    "collapsed": false,
    "pycharm": {
     "name": "#%% md\n"
    }
   }
  },
  {
   "cell_type": "code",
   "execution_count": 90,
   "outputs": [
    {
     "name": "stdout",
     "output_type": "stream",
     "text": [
      "              precision    recall  f1-score   support\n",
      "\n",
      "       False       0.82      0.88      0.85      2160\n",
      "        True       0.18      0.12      0.14       487\n",
      "\n",
      "    accuracy                           0.74      2647\n",
      "   macro avg       0.50      0.50      0.49      2647\n",
      "weighted avg       0.70      0.74      0.72      2647\n",
      "\n"
     ]
    }
   ],
   "source": [
    "# fit and predict\n",
    "clf = RandomForestClassifier()\n",
    "clf.fit(X_train, y_train)\n",
    "y_pred = clf.predict(X_test)\n",
    "\n",
    "# print report\n",
    "print(classification_report(y_test, y_pred))"
   ],
   "metadata": {
    "collapsed": false,
    "pycharm": {
     "name": "#%%\n"
    }
   }
  },
  {
   "cell_type": "code",
   "execution_count": 91,
   "outputs": [
    {
     "data": {
      "text/plain": "opted_in_to_mailing_list      0.008866\nenabled_for_marketing_drip    0.007462\norg_id                        0.725748\ntime_create_last_session      0.237597\nsource__ORG_INVITE            0.006394\nsource__PERSONAL_PROJECTS     0.004450\nsource__SIGNUP                0.004886\nsource__SIGNUP_GOOGLE_AUTH    0.004597\ndtype: float64"
     },
     "execution_count": 91,
     "metadata": {},
     "output_type": "execute_result"
    }
   ],
   "source": [
    "# print feature importance\n",
    "pd.Series(clf.feature_importances_, index=X.columns)"
   ],
   "metadata": {
    "collapsed": false,
    "pycharm": {
     "name": "#%%\n"
    }
   }
  }
 ],
 "metadata": {
  "kernelspec": {
   "display_name": "Python 3",
   "language": "python",
   "name": "python3"
  },
  "language_info": {
   "codemirror_mode": {
    "name": "ipython",
    "version": 2
   },
   "file_extension": ".py",
   "mimetype": "text/x-python",
   "name": "python",
   "nbconvert_exporter": "python",
   "pygments_lexer": "ipython2",
   "version": "2.7.6"
  }
 },
 "nbformat": 4,
 "nbformat_minor": 0
}